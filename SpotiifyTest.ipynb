{
 "cells": [
  {
   "cell_type": "code",
   "execution_count": 4,
   "metadata": {},
   "outputs": [],
   "source": [
    "import requests as rq\n",
    "import json\n",
    "import spotipy\n",
    "import spotipy.oauth2 as oauth2\n",
    "from spotipy.oauth2 import SpotifyOAuth\n",
    "from spotipy.oauth2 import SpotifyClientCredentials\n",
    "import pandas as pd\n",
    "import time\n",
    "import spotipy.util as util\n",
    "import fuzzywuzzy as fw\n",
    "from fuzzywuzzy import fuzz\n",
    "import re"
   ]
  },
  {
   "cell_type": "code",
   "execution_count": 85,
   "metadata": {},
   "outputs": [],
   "source": [
    "auth_mgr = SpotifyClientCredentials(client_id = \"f23579cc015b4e518158755fd63d46fc\", client_secret = \"9dd9fb72962e4c3f9d42474c0142313a\")"
   ]
  },
  {
   "cell_type": "code",
   "execution_count": 86,
   "metadata": {},
   "outputs": [],
   "source": [
    "client_id = \"f23579cc015b4e518158755fd63d46fc\"\n",
    "client_secret = \"9dd9fb72962e4c3f9d42474c0142313a\"\n",
    "username = 'ruhchit'\n",
    "scope = 'playlist-modify-public'"
   ]
  },
  {
   "cell_type": "code",
   "execution_count": 90,
   "metadata": {},
   "outputs": [],
   "source": [
    "auth_mgr = util.prompt_for_user_token(username,scope,client_id=client_id,client_secret=client_secret,redirect_uri='http://localhost:8888/notebooks/Untitled%20Folder/Untitled.ipynb') "
   ]
  },
  {
   "cell_type": "code",
   "execution_count": 94,
   "metadata": {},
   "outputs": [],
   "source": [
    "sp = spotipy.Spotify(auth = auth_mgr)"
   ]
  },
  {
   "cell_type": "code",
   "execution_count": 95,
   "metadata": {},
   "outputs": [
    {
     "name": "stdout",
     "output_type": "stream",
     "text": [
      "<spotipy.client.Spotify object at 0x00000191E8F25D48>\n"
     ]
    }
   ],
   "source": [
    "print(sp)"
   ]
  },
  {
   "cell_type": "code",
   "execution_count": 96,
   "metadata": {},
   "outputs": [],
   "source": [
    "artist_info = \"spotify:artist:7HCqGPJcQTyGJ2yqntbuyr\"\n",
    "artist = sp.artist(artist_info)"
   ]
  },
  {
   "cell_type": "code",
   "execution_count": 9,
   "metadata": {},
   "outputs": [
    {
     "data": {
      "text/plain": [
       "{'external_urls': {'spotify': 'https://open.spotify.com/artist/7HCqGPJcQTyGJ2yqntbuyr'},\n",
       " 'followers': {'href': None, 'total': 2764974},\n",
       " 'genres': ['desi pop', 'filmi', 'modern bollywood', 'sufi'],\n",
       " 'href': 'https://api.spotify.com/v1/artists/7HCqGPJcQTyGJ2yqntbuyr',\n",
       " 'id': '7HCqGPJcQTyGJ2yqntbuyr',\n",
       " 'images': [{'height': 640,\n",
       "   'url': 'https://i.scdn.co/image/4cbbbaea3e085f0d24dba3677b59dd6a4acec161',\n",
       "   'width': 640},\n",
       "  {'height': 320,\n",
       "   'url': 'https://i.scdn.co/image/4dc4049fbd3f4ee5f871c438f7f0d1ee59d2afc0',\n",
       "   'width': 320},\n",
       "  {'height': 160,\n",
       "   'url': 'https://i.scdn.co/image/bb72e57d662f240749c9a5d3bc0a1a56928c15fd',\n",
       "   'width': 160}],\n",
       " 'name': 'Amit Trivedi',\n",
       " 'popularity': 71,\n",
       " 'type': 'artist',\n",
       " 'uri': 'spotify:artist:7HCqGPJcQTyGJ2yqntbuyr'}"
      ]
     },
     "execution_count": 9,
     "metadata": {},
     "output_type": "execute_result"
    }
   ],
   "source": [
    "artist"
   ]
  },
  {
   "cell_type": "code",
   "execution_count": 13,
   "metadata": {},
   "outputs": [
    {
     "data": {
      "text/plain": [
       "'https://api.spotify.com/v1/artists/7HCqGPJcQTyGJ2yqntbuyr/albums?offset=20&limit=20&include_groups=album'"
      ]
     },
     "execution_count": 13,
     "metadata": {},
     "output_type": "execute_result"
    }
   ],
   "source": [
    "artist_album = sp.artist_albums(artist_info, album_type = 'album')\n",
    "artist_album['next']"
   ]
  },
  {
   "cell_type": "code",
   "execution_count": 101,
   "metadata": {},
   "outputs": [
    {
     "data": {
      "text/plain": [
       "{'href': 'https://api.spotify.com/v1/albums/2G4AUqfwxcV1UdQjm2ouYr/tracks?offset=0&limit=50&market=IN',\n",
       " 'items': [{'artists': [{'external_urls': {'spotify': 'https://open.spotify.com/artist/4gzpq5DPGxSnKTe4SA8HAU'},\n",
       "     'href': 'https://api.spotify.com/v1/artists/4gzpq5DPGxSnKTe4SA8HAU',\n",
       "     'id': '4gzpq5DPGxSnKTe4SA8HAU',\n",
       "     'name': 'Coldplay',\n",
       "     'type': 'artist',\n",
       "     'uri': 'spotify:artist:4gzpq5DPGxSnKTe4SA8HAU'}],\n",
       "   'disc_number': 1,\n",
       "   'duration_ms': 216626,\n",
       "   'explicit': False,\n",
       "   'external_urls': {'spotify': 'https://open.spotify.com/track/0FMjqbY3aWo1QDbo3GwXib'},\n",
       "   'href': 'https://api.spotify.com/v1/tracks/0FMjqbY3aWo1QDbo3GwXib',\n",
       "   'id': '0FMjqbY3aWo1QDbo3GwXib',\n",
       "   'is_local': False,\n",
       "   'is_playable': True,\n",
       "   'name': 'Always in My Head',\n",
       "   'preview_url': 'https://p.scdn.co/mp3-preview/d4f7b43d4cb96d09d09c778959cb26102475a58c?cid=f23579cc015b4e518158755fd63d46fc',\n",
       "   'track_number': 1,\n",
       "   'type': 'track',\n",
       "   'uri': 'spotify:track:0FMjqbY3aWo1QDbo3GwXib'},\n",
       "  {'artists': [{'external_urls': {'spotify': 'https://open.spotify.com/artist/4gzpq5DPGxSnKTe4SA8HAU'},\n",
       "     'href': 'https://api.spotify.com/v1/artists/4gzpq5DPGxSnKTe4SA8HAU',\n",
       "     'id': '4gzpq5DPGxSnKTe4SA8HAU',\n",
       "     'name': 'Coldplay',\n",
       "     'type': 'artist',\n",
       "     'uri': 'spotify:artist:4gzpq5DPGxSnKTe4SA8HAU'}],\n",
       "   'disc_number': 1,\n",
       "   'duration_ms': 285014,\n",
       "   'explicit': False,\n",
       "   'external_urls': {'spotify': 'https://open.spotify.com/track/23khhseCLQqVMCIT1WMAns'},\n",
       "   'href': 'https://api.spotify.com/v1/tracks/23khhseCLQqVMCIT1WMAns',\n",
       "   'id': '23khhseCLQqVMCIT1WMAns',\n",
       "   'is_local': False,\n",
       "   'is_playable': True,\n",
       "   'name': 'Magic',\n",
       "   'preview_url': 'https://p.scdn.co/mp3-preview/60ec5dcb39393978dd136c8cdf517f6a834ac620?cid=f23579cc015b4e518158755fd63d46fc',\n",
       "   'track_number': 2,\n",
       "   'type': 'track',\n",
       "   'uri': 'spotify:track:23khhseCLQqVMCIT1WMAns'},\n",
       "  {'artists': [{'external_urls': {'spotify': 'https://open.spotify.com/artist/4gzpq5DPGxSnKTe4SA8HAU'},\n",
       "     'href': 'https://api.spotify.com/v1/artists/4gzpq5DPGxSnKTe4SA8HAU',\n",
       "     'id': '4gzpq5DPGxSnKTe4SA8HAU',\n",
       "     'name': 'Coldplay',\n",
       "     'type': 'artist',\n",
       "     'uri': 'spotify:artist:4gzpq5DPGxSnKTe4SA8HAU'}],\n",
       "   'disc_number': 1,\n",
       "   'duration_ms': 228373,\n",
       "   'explicit': False,\n",
       "   'external_urls': {'spotify': 'https://open.spotify.com/track/6c6W25YoDGjTq3qSPOga5t'},\n",
       "   'href': 'https://api.spotify.com/v1/tracks/6c6W25YoDGjTq3qSPOga5t',\n",
       "   'id': '6c6W25YoDGjTq3qSPOga5t',\n",
       "   'is_local': False,\n",
       "   'is_playable': True,\n",
       "   'name': 'Ink',\n",
       "   'preview_url': 'https://p.scdn.co/mp3-preview/ddf9fc3519894ae765f904d9e03b3a14281c8872?cid=f23579cc015b4e518158755fd63d46fc',\n",
       "   'track_number': 3,\n",
       "   'type': 'track',\n",
       "   'uri': 'spotify:track:6c6W25YoDGjTq3qSPOga5t'},\n",
       "  {'artists': [{'external_urls': {'spotify': 'https://open.spotify.com/artist/4gzpq5DPGxSnKTe4SA8HAU'},\n",
       "     'href': 'https://api.spotify.com/v1/artists/4gzpq5DPGxSnKTe4SA8HAU',\n",
       "     'id': '4gzpq5DPGxSnKTe4SA8HAU',\n",
       "     'name': 'Coldplay',\n",
       "     'type': 'artist',\n",
       "     'uri': 'spotify:artist:4gzpq5DPGxSnKTe4SA8HAU'}],\n",
       "   'disc_number': 1,\n",
       "   'duration_ms': 246000,\n",
       "   'explicit': False,\n",
       "   'external_urls': {'spotify': 'https://open.spotify.com/track/0fQuzbQNLcD1ofo7B2NcFI'},\n",
       "   'href': 'https://api.spotify.com/v1/tracks/0fQuzbQNLcD1ofo7B2NcFI',\n",
       "   'id': '0fQuzbQNLcD1ofo7B2NcFI',\n",
       "   'is_local': False,\n",
       "   'is_playable': True,\n",
       "   'name': 'True Love',\n",
       "   'preview_url': 'https://p.scdn.co/mp3-preview/4a3d85765fe1547ece26976d90b987a7ece71c44?cid=f23579cc015b4e518158755fd63d46fc',\n",
       "   'track_number': 4,\n",
       "   'type': 'track',\n",
       "   'uri': 'spotify:track:0fQuzbQNLcD1ofo7B2NcFI'},\n",
       "  {'artists': [{'external_urls': {'spotify': 'https://open.spotify.com/artist/4gzpq5DPGxSnKTe4SA8HAU'},\n",
       "     'href': 'https://api.spotify.com/v1/artists/4gzpq5DPGxSnKTe4SA8HAU',\n",
       "     'id': '4gzpq5DPGxSnKTe4SA8HAU',\n",
       "     'name': 'Coldplay',\n",
       "     'type': 'artist',\n",
       "     'uri': 'spotify:artist:4gzpq5DPGxSnKTe4SA8HAU'}],\n",
       "   'disc_number': 1,\n",
       "   'duration_ms': 294666,\n",
       "   'explicit': False,\n",
       "   'external_urls': {'spotify': 'https://open.spotify.com/track/4GKk1uNzpxIptBuaY97Dkj'},\n",
       "   'href': 'https://api.spotify.com/v1/tracks/4GKk1uNzpxIptBuaY97Dkj',\n",
       "   'id': '4GKk1uNzpxIptBuaY97Dkj',\n",
       "   'is_local': False,\n",
       "   'is_playable': True,\n",
       "   'name': 'Midnight',\n",
       "   'preview_url': 'https://p.scdn.co/mp3-preview/eb56def641f2ed627d7c93e913516e531ab2b20a?cid=f23579cc015b4e518158755fd63d46fc',\n",
       "   'track_number': 5,\n",
       "   'type': 'track',\n",
       "   'uri': 'spotify:track:4GKk1uNzpxIptBuaY97Dkj'},\n",
       "  {'artists': [{'external_urls': {'spotify': 'https://open.spotify.com/artist/4gzpq5DPGxSnKTe4SA8HAU'},\n",
       "     'href': 'https://api.spotify.com/v1/artists/4gzpq5DPGxSnKTe4SA8HAU',\n",
       "     'id': '4gzpq5DPGxSnKTe4SA8HAU',\n",
       "     'name': 'Coldplay',\n",
       "     'type': 'artist',\n",
       "     'uri': 'spotify:artist:4gzpq5DPGxSnKTe4SA8HAU'}],\n",
       "   'disc_number': 1,\n",
       "   'duration_ms': 234413,\n",
       "   'explicit': False,\n",
       "   'external_urls': {'spotify': 'https://open.spotify.com/track/22uzF19LxQW87kOVkR79Fq'},\n",
       "   'href': 'https://api.spotify.com/v1/tracks/22uzF19LxQW87kOVkR79Fq',\n",
       "   'id': '22uzF19LxQW87kOVkR79Fq',\n",
       "   'is_local': False,\n",
       "   'is_playable': True,\n",
       "   'name': \"Another's Arms\",\n",
       "   'preview_url': 'https://p.scdn.co/mp3-preview/b7fb9a637b20e480add92515b6b765c452bddcd5?cid=f23579cc015b4e518158755fd63d46fc',\n",
       "   'track_number': 6,\n",
       "   'type': 'track',\n",
       "   'uri': 'spotify:track:22uzF19LxQW87kOVkR79Fq'},\n",
       "  {'artists': [{'external_urls': {'spotify': 'https://open.spotify.com/artist/4gzpq5DPGxSnKTe4SA8HAU'},\n",
       "     'href': 'https://api.spotify.com/v1/artists/4gzpq5DPGxSnKTe4SA8HAU',\n",
       "     'id': '4gzpq5DPGxSnKTe4SA8HAU',\n",
       "     'name': 'Coldplay',\n",
       "     'type': 'artist',\n",
       "     'uri': 'spotify:artist:4gzpq5DPGxSnKTe4SA8HAU'}],\n",
       "   'disc_number': 1,\n",
       "   'duration_ms': 321680,\n",
       "   'explicit': False,\n",
       "   'external_urls': {'spotify': 'https://open.spotify.com/track/2u4uhtETtcULnkBfFHSnDX'},\n",
       "   'href': 'https://api.spotify.com/v1/tracks/2u4uhtETtcULnkBfFHSnDX',\n",
       "   'id': '2u4uhtETtcULnkBfFHSnDX',\n",
       "   'is_local': False,\n",
       "   'is_playable': True,\n",
       "   'name': 'Oceans',\n",
       "   'preview_url': 'https://p.scdn.co/mp3-preview/5ce7238c6b2335556f552c7e6ba6253e82e3530f?cid=f23579cc015b4e518158755fd63d46fc',\n",
       "   'track_number': 7,\n",
       "   'type': 'track',\n",
       "   'uri': 'spotify:track:2u4uhtETtcULnkBfFHSnDX'},\n",
       "  {'artists': [{'external_urls': {'spotify': 'https://open.spotify.com/artist/4gzpq5DPGxSnKTe4SA8HAU'},\n",
       "     'href': 'https://api.spotify.com/v1/artists/4gzpq5DPGxSnKTe4SA8HAU',\n",
       "     'id': '4gzpq5DPGxSnKTe4SA8HAU',\n",
       "     'name': 'Coldplay',\n",
       "     'type': 'artist',\n",
       "     'uri': 'spotify:artist:4gzpq5DPGxSnKTe4SA8HAU'}],\n",
       "   'disc_number': 1,\n",
       "   'duration_ms': 267866,\n",
       "   'explicit': False,\n",
       "   'external_urls': {'spotify': 'https://open.spotify.com/track/0FDzzruyVECATHXKHFs9eJ'},\n",
       "   'href': 'https://api.spotify.com/v1/tracks/0FDzzruyVECATHXKHFs9eJ',\n",
       "   'id': '0FDzzruyVECATHXKHFs9eJ',\n",
       "   'is_local': False,\n",
       "   'is_playable': True,\n",
       "   'name': 'A Sky Full of Stars',\n",
       "   'preview_url': 'https://p.scdn.co/mp3-preview/c078ecffbf466b8521e135766dd4f36699846feb?cid=f23579cc015b4e518158755fd63d46fc',\n",
       "   'track_number': 8,\n",
       "   'type': 'track',\n",
       "   'uri': 'spotify:track:0FDzzruyVECATHXKHFs9eJ'},\n",
       "  {'artists': [{'external_urls': {'spotify': 'https://open.spotify.com/artist/4gzpq5DPGxSnKTe4SA8HAU'},\n",
       "     'href': 'https://api.spotify.com/v1/artists/4gzpq5DPGxSnKTe4SA8HAU',\n",
       "     'id': '4gzpq5DPGxSnKTe4SA8HAU',\n",
       "     'name': 'Coldplay',\n",
       "     'type': 'artist',\n",
       "     'uri': 'spotify:artist:4gzpq5DPGxSnKTe4SA8HAU'}],\n",
       "   'disc_number': 1,\n",
       "   'duration_ms': 323480,\n",
       "   'explicit': False,\n",
       "   'external_urls': {'spotify': 'https://open.spotify.com/track/77yuzxCS3csrgTPSW0pvyk'},\n",
       "   'href': 'https://api.spotify.com/v1/tracks/77yuzxCS3csrgTPSW0pvyk',\n",
       "   'id': '77yuzxCS3csrgTPSW0pvyk',\n",
       "   'is_local': False,\n",
       "   'is_playable': True,\n",
       "   'name': 'O',\n",
       "   'preview_url': 'https://p.scdn.co/mp3-preview/227979f9d5f8b9820b6b3b522b8eb3b9e8322b21?cid=f23579cc015b4e518158755fd63d46fc',\n",
       "   'track_number': 9,\n",
       "   'type': 'track',\n",
       "   'uri': 'spotify:track:77yuzxCS3csrgTPSW0pvyk'}],\n",
       " 'limit': 50,\n",
       " 'next': None,\n",
       " 'offset': 0,\n",
       " 'previous': None,\n",
       " 'total': 9}"
      ]
     },
     "execution_count": 101,
     "metadata": {},
     "output_type": "execute_result"
    }
   ],
   "source": [
    "ghost_tracks = sp.album_tracks(\"https://open.spotify.com/album/2G4AUqfwxcV1UdQjm2ouYr?si=Fqs7pIBjQMyMjsXtUEKBfg\",limit = 50,market= 'IN')\n",
    "ghost_tracks"
   ]
  },
  {
   "cell_type": "code",
   "execution_count": 102,
   "metadata": {},
   "outputs": [
    {
     "data": {
      "text/plain": [
       "[{'artists': [{'external_urls': {'spotify': 'https://open.spotify.com/artist/4gzpq5DPGxSnKTe4SA8HAU'},\n",
       "    'href': 'https://api.spotify.com/v1/artists/4gzpq5DPGxSnKTe4SA8HAU',\n",
       "    'id': '4gzpq5DPGxSnKTe4SA8HAU',\n",
       "    'name': 'Coldplay',\n",
       "    'type': 'artist',\n",
       "    'uri': 'spotify:artist:4gzpq5DPGxSnKTe4SA8HAU'}],\n",
       "  'disc_number': 1,\n",
       "  'duration_ms': 216626,\n",
       "  'explicit': False,\n",
       "  'external_urls': {'spotify': 'https://open.spotify.com/track/0FMjqbY3aWo1QDbo3GwXib'},\n",
       "  'href': 'https://api.spotify.com/v1/tracks/0FMjqbY3aWo1QDbo3GwXib',\n",
       "  'id': '0FMjqbY3aWo1QDbo3GwXib',\n",
       "  'is_local': False,\n",
       "  'is_playable': True,\n",
       "  'name': 'Always in My Head',\n",
       "  'preview_url': 'https://p.scdn.co/mp3-preview/d4f7b43d4cb96d09d09c778959cb26102475a58c?cid=f23579cc015b4e518158755fd63d46fc',\n",
       "  'track_number': 1,\n",
       "  'type': 'track',\n",
       "  'uri': 'spotify:track:0FMjqbY3aWo1QDbo3GwXib'},\n",
       " {'artists': [{'external_urls': {'spotify': 'https://open.spotify.com/artist/4gzpq5DPGxSnKTe4SA8HAU'},\n",
       "    'href': 'https://api.spotify.com/v1/artists/4gzpq5DPGxSnKTe4SA8HAU',\n",
       "    'id': '4gzpq5DPGxSnKTe4SA8HAU',\n",
       "    'name': 'Coldplay',\n",
       "    'type': 'artist',\n",
       "    'uri': 'spotify:artist:4gzpq5DPGxSnKTe4SA8HAU'}],\n",
       "  'disc_number': 1,\n",
       "  'duration_ms': 285014,\n",
       "  'explicit': False,\n",
       "  'external_urls': {'spotify': 'https://open.spotify.com/track/23khhseCLQqVMCIT1WMAns'},\n",
       "  'href': 'https://api.spotify.com/v1/tracks/23khhseCLQqVMCIT1WMAns',\n",
       "  'id': '23khhseCLQqVMCIT1WMAns',\n",
       "  'is_local': False,\n",
       "  'is_playable': True,\n",
       "  'name': 'Magic',\n",
       "  'preview_url': 'https://p.scdn.co/mp3-preview/60ec5dcb39393978dd136c8cdf517f6a834ac620?cid=f23579cc015b4e518158755fd63d46fc',\n",
       "  'track_number': 2,\n",
       "  'type': 'track',\n",
       "  'uri': 'spotify:track:23khhseCLQqVMCIT1WMAns'},\n",
       " {'artists': [{'external_urls': {'spotify': 'https://open.spotify.com/artist/4gzpq5DPGxSnKTe4SA8HAU'},\n",
       "    'href': 'https://api.spotify.com/v1/artists/4gzpq5DPGxSnKTe4SA8HAU',\n",
       "    'id': '4gzpq5DPGxSnKTe4SA8HAU',\n",
       "    'name': 'Coldplay',\n",
       "    'type': 'artist',\n",
       "    'uri': 'spotify:artist:4gzpq5DPGxSnKTe4SA8HAU'}],\n",
       "  'disc_number': 1,\n",
       "  'duration_ms': 228373,\n",
       "  'explicit': False,\n",
       "  'external_urls': {'spotify': 'https://open.spotify.com/track/6c6W25YoDGjTq3qSPOga5t'},\n",
       "  'href': 'https://api.spotify.com/v1/tracks/6c6W25YoDGjTq3qSPOga5t',\n",
       "  'id': '6c6W25YoDGjTq3qSPOga5t',\n",
       "  'is_local': False,\n",
       "  'is_playable': True,\n",
       "  'name': 'Ink',\n",
       "  'preview_url': 'https://p.scdn.co/mp3-preview/ddf9fc3519894ae765f904d9e03b3a14281c8872?cid=f23579cc015b4e518158755fd63d46fc',\n",
       "  'track_number': 3,\n",
       "  'type': 'track',\n",
       "  'uri': 'spotify:track:6c6W25YoDGjTq3qSPOga5t'},\n",
       " {'artists': [{'external_urls': {'spotify': 'https://open.spotify.com/artist/4gzpq5DPGxSnKTe4SA8HAU'},\n",
       "    'href': 'https://api.spotify.com/v1/artists/4gzpq5DPGxSnKTe4SA8HAU',\n",
       "    'id': '4gzpq5DPGxSnKTe4SA8HAU',\n",
       "    'name': 'Coldplay',\n",
       "    'type': 'artist',\n",
       "    'uri': 'spotify:artist:4gzpq5DPGxSnKTe4SA8HAU'}],\n",
       "  'disc_number': 1,\n",
       "  'duration_ms': 246000,\n",
       "  'explicit': False,\n",
       "  'external_urls': {'spotify': 'https://open.spotify.com/track/0fQuzbQNLcD1ofo7B2NcFI'},\n",
       "  'href': 'https://api.spotify.com/v1/tracks/0fQuzbQNLcD1ofo7B2NcFI',\n",
       "  'id': '0fQuzbQNLcD1ofo7B2NcFI',\n",
       "  'is_local': False,\n",
       "  'is_playable': True,\n",
       "  'name': 'True Love',\n",
       "  'preview_url': 'https://p.scdn.co/mp3-preview/4a3d85765fe1547ece26976d90b987a7ece71c44?cid=f23579cc015b4e518158755fd63d46fc',\n",
       "  'track_number': 4,\n",
       "  'type': 'track',\n",
       "  'uri': 'spotify:track:0fQuzbQNLcD1ofo7B2NcFI'},\n",
       " {'artists': [{'external_urls': {'spotify': 'https://open.spotify.com/artist/4gzpq5DPGxSnKTe4SA8HAU'},\n",
       "    'href': 'https://api.spotify.com/v1/artists/4gzpq5DPGxSnKTe4SA8HAU',\n",
       "    'id': '4gzpq5DPGxSnKTe4SA8HAU',\n",
       "    'name': 'Coldplay',\n",
       "    'type': 'artist',\n",
       "    'uri': 'spotify:artist:4gzpq5DPGxSnKTe4SA8HAU'}],\n",
       "  'disc_number': 1,\n",
       "  'duration_ms': 294666,\n",
       "  'explicit': False,\n",
       "  'external_urls': {'spotify': 'https://open.spotify.com/track/4GKk1uNzpxIptBuaY97Dkj'},\n",
       "  'href': 'https://api.spotify.com/v1/tracks/4GKk1uNzpxIptBuaY97Dkj',\n",
       "  'id': '4GKk1uNzpxIptBuaY97Dkj',\n",
       "  'is_local': False,\n",
       "  'is_playable': True,\n",
       "  'name': 'Midnight',\n",
       "  'preview_url': 'https://p.scdn.co/mp3-preview/eb56def641f2ed627d7c93e913516e531ab2b20a?cid=f23579cc015b4e518158755fd63d46fc',\n",
       "  'track_number': 5,\n",
       "  'type': 'track',\n",
       "  'uri': 'spotify:track:4GKk1uNzpxIptBuaY97Dkj'},\n",
       " {'artists': [{'external_urls': {'spotify': 'https://open.spotify.com/artist/4gzpq5DPGxSnKTe4SA8HAU'},\n",
       "    'href': 'https://api.spotify.com/v1/artists/4gzpq5DPGxSnKTe4SA8HAU',\n",
       "    'id': '4gzpq5DPGxSnKTe4SA8HAU',\n",
       "    'name': 'Coldplay',\n",
       "    'type': 'artist',\n",
       "    'uri': 'spotify:artist:4gzpq5DPGxSnKTe4SA8HAU'}],\n",
       "  'disc_number': 1,\n",
       "  'duration_ms': 234413,\n",
       "  'explicit': False,\n",
       "  'external_urls': {'spotify': 'https://open.spotify.com/track/22uzF19LxQW87kOVkR79Fq'},\n",
       "  'href': 'https://api.spotify.com/v1/tracks/22uzF19LxQW87kOVkR79Fq',\n",
       "  'id': '22uzF19LxQW87kOVkR79Fq',\n",
       "  'is_local': False,\n",
       "  'is_playable': True,\n",
       "  'name': \"Another's Arms\",\n",
       "  'preview_url': 'https://p.scdn.co/mp3-preview/b7fb9a637b20e480add92515b6b765c452bddcd5?cid=f23579cc015b4e518158755fd63d46fc',\n",
       "  'track_number': 6,\n",
       "  'type': 'track',\n",
       "  'uri': 'spotify:track:22uzF19LxQW87kOVkR79Fq'},\n",
       " {'artists': [{'external_urls': {'spotify': 'https://open.spotify.com/artist/4gzpq5DPGxSnKTe4SA8HAU'},\n",
       "    'href': 'https://api.spotify.com/v1/artists/4gzpq5DPGxSnKTe4SA8HAU',\n",
       "    'id': '4gzpq5DPGxSnKTe4SA8HAU',\n",
       "    'name': 'Coldplay',\n",
       "    'type': 'artist',\n",
       "    'uri': 'spotify:artist:4gzpq5DPGxSnKTe4SA8HAU'}],\n",
       "  'disc_number': 1,\n",
       "  'duration_ms': 321680,\n",
       "  'explicit': False,\n",
       "  'external_urls': {'spotify': 'https://open.spotify.com/track/2u4uhtETtcULnkBfFHSnDX'},\n",
       "  'href': 'https://api.spotify.com/v1/tracks/2u4uhtETtcULnkBfFHSnDX',\n",
       "  'id': '2u4uhtETtcULnkBfFHSnDX',\n",
       "  'is_local': False,\n",
       "  'is_playable': True,\n",
       "  'name': 'Oceans',\n",
       "  'preview_url': 'https://p.scdn.co/mp3-preview/5ce7238c6b2335556f552c7e6ba6253e82e3530f?cid=f23579cc015b4e518158755fd63d46fc',\n",
       "  'track_number': 7,\n",
       "  'type': 'track',\n",
       "  'uri': 'spotify:track:2u4uhtETtcULnkBfFHSnDX'},\n",
       " {'artists': [{'external_urls': {'spotify': 'https://open.spotify.com/artist/4gzpq5DPGxSnKTe4SA8HAU'},\n",
       "    'href': 'https://api.spotify.com/v1/artists/4gzpq5DPGxSnKTe4SA8HAU',\n",
       "    'id': '4gzpq5DPGxSnKTe4SA8HAU',\n",
       "    'name': 'Coldplay',\n",
       "    'type': 'artist',\n",
       "    'uri': 'spotify:artist:4gzpq5DPGxSnKTe4SA8HAU'}],\n",
       "  'disc_number': 1,\n",
       "  'duration_ms': 267866,\n",
       "  'explicit': False,\n",
       "  'external_urls': {'spotify': 'https://open.spotify.com/track/0FDzzruyVECATHXKHFs9eJ'},\n",
       "  'href': 'https://api.spotify.com/v1/tracks/0FDzzruyVECATHXKHFs9eJ',\n",
       "  'id': '0FDzzruyVECATHXKHFs9eJ',\n",
       "  'is_local': False,\n",
       "  'is_playable': True,\n",
       "  'name': 'A Sky Full of Stars',\n",
       "  'preview_url': 'https://p.scdn.co/mp3-preview/c078ecffbf466b8521e135766dd4f36699846feb?cid=f23579cc015b4e518158755fd63d46fc',\n",
       "  'track_number': 8,\n",
       "  'type': 'track',\n",
       "  'uri': 'spotify:track:0FDzzruyVECATHXKHFs9eJ'},\n",
       " {'artists': [{'external_urls': {'spotify': 'https://open.spotify.com/artist/4gzpq5DPGxSnKTe4SA8HAU'},\n",
       "    'href': 'https://api.spotify.com/v1/artists/4gzpq5DPGxSnKTe4SA8HAU',\n",
       "    'id': '4gzpq5DPGxSnKTe4SA8HAU',\n",
       "    'name': 'Coldplay',\n",
       "    'type': 'artist',\n",
       "    'uri': 'spotify:artist:4gzpq5DPGxSnKTe4SA8HAU'}],\n",
       "  'disc_number': 1,\n",
       "  'duration_ms': 323480,\n",
       "  'explicit': False,\n",
       "  'external_urls': {'spotify': 'https://open.spotify.com/track/77yuzxCS3csrgTPSW0pvyk'},\n",
       "  'href': 'https://api.spotify.com/v1/tracks/77yuzxCS3csrgTPSW0pvyk',\n",
       "  'id': '77yuzxCS3csrgTPSW0pvyk',\n",
       "  'is_local': False,\n",
       "  'is_playable': True,\n",
       "  'name': 'O',\n",
       "  'preview_url': 'https://p.scdn.co/mp3-preview/227979f9d5f8b9820b6b3b522b8eb3b9e8322b21?cid=f23579cc015b4e518158755fd63d46fc',\n",
       "  'track_number': 9,\n",
       "  'type': 'track',\n",
       "  'uri': 'spotify:track:77yuzxCS3csrgTPSW0pvyk'}]"
      ]
     },
     "execution_count": 102,
     "metadata": {},
     "output_type": "execute_result"
    }
   ],
   "source": [
    "items = ghost_tracks['items']\n",
    "items"
   ]
  },
  {
   "cell_type": "code",
   "execution_count": 26,
   "metadata": {},
   "outputs": [
    {
     "name": "stdout",
     "output_type": "stream",
     "text": [
      "Always in My Head\n",
      "Magic\n",
      "Ink\n",
      "True Love\n",
      "Midnight\n",
      "Another's Arms\n",
      "Oceans\n",
      "A Sky Full of Stars\n",
      "O\n"
     ]
    }
   ],
   "source": [
    "for i in items:\n",
    "    print(i['name'])"
   ]
  },
  {
   "cell_type": "code",
   "execution_count": 100,
   "metadata": {},
   "outputs": [],
   "source": [
    "top10 = sp.artist_top_tracks(\"https://open.spotify.com/artist/5GnnSrwNCGyfAU4zuIytiS?si=eeMdSR8bR0mDTDlf43VI5w\", country='IN')"
   ]
  },
  {
   "cell_type": "code",
   "execution_count": 30,
   "metadata": {},
   "outputs": [
    {
     "data": {
      "text/plain": [
       "'Tum Se Hi'"
      ]
     },
     "execution_count": 30,
     "metadata": {},
     "output_type": "execute_result"
    }
   ],
   "source": [
    "top10['tracks'][0]['name']"
   ]
  },
  {
   "cell_type": "code",
   "execution_count": 99,
   "metadata": {},
   "outputs": [
    {
     "data": {
      "text/plain": [
       "{'display_name': 'ruhchit',\n",
       " 'external_urls': {'spotify': 'https://open.spotify.com/user/hqjmh76dfnjl9ryizflmav4zn'},\n",
       " 'followers': {'href': None, 'total': 0},\n",
       " 'href': 'https://api.spotify.com/v1/users/hqjmh76dfnjl9ryizflmav4zn',\n",
       " 'id': 'hqjmh76dfnjl9ryizflmav4zn',\n",
       " 'images': [],\n",
       " 'type': 'user',\n",
       " 'uri': 'spotify:user:hqjmh76dfnjl9ryizflmav4zn'}"
      ]
     },
     "execution_count": 99,
     "metadata": {},
     "output_type": "execute_result"
    }
   ],
   "source": [
    "curr = sp.current_user()\n",
    "curr"
   ]
  },
  {
   "cell_type": "code",
   "execution_count": 34,
   "metadata": {},
   "outputs": [],
   "source": [
    "q = 'Cold Water (Audio extra) (feat. Justin Bieber & MØ)'"
   ]
  },
  {
   "cell_type": "code",
   "execution_count": 35,
   "metadata": {},
   "outputs": [
    {
     "data": {
      "text/plain": [
       "'cold water'"
      ]
     },
     "execution_count": 35,
     "metadata": {},
     "output_type": "execute_result"
    }
   ],
   "source": [
    "q = re.sub(r'\\([^()]*\\)','',q).strip().lower()\n",
    "# q = q.strip()\n",
    "q"
   ]
  },
  {
   "cell_type": "code",
   "execution_count": 33,
   "metadata": {},
   "outputs": [
    {
     "data": {
      "text/plain": [
       "'cold water'"
      ]
     },
     "execution_count": 33,
     "metadata": {},
     "output_type": "execute_result"
    }
   ],
   "source": [
    "# q.lower()"
   ]
  }
 ],
 "metadata": {
  "kernelspec": {
   "display_name": "Python 3",
   "language": "python",
   "name": "python3"
  },
  "language_info": {
   "codemirror_mode": {
    "name": "ipython",
    "version": 3
   },
   "file_extension": ".py",
   "mimetype": "text/x-python",
   "name": "python",
   "nbconvert_exporter": "python",
   "pygments_lexer": "ipython3",
   "version": "3.7.4"
  }
 },
 "nbformat": 4,
 "nbformat_minor": 2
}
